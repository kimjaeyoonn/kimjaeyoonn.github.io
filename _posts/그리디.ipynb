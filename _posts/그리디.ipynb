{
 "cells": [
  {
   "cell_type": "markdown",
   "metadata": {},
   "source": [
    "# 그리디\n",
    "- 그리디 알고리즘은 쉽게 말해 탐욕법으로 최적의 해를 보장해주지는 않는다.\n",
    "- 하지만, 탐욕법으로 얻는 해가 최적의 해가 되는 상황에서 그리디 알고리즘을 잘 사용할 줄 알아야한다."
   ]
  },
  {
   "cell_type": "markdown",
   "metadata": {},
   "source": [
    "대표적인 예시) 거스름 돈 문제\n",
    "- array에는 큰 단위의 화폐부터 담는 것이 중요\n",
    "- 화폐의 종류만큼 반복이 수행됨 > 시간복잡도 알 수 있다. O(len(array))\n",
    "- 이 알고리즘의 시간 복잡도는 거슬러줘야 하는 금액과는 무관하며, 동전의 총 종류에만 영향을 받는다."
   ]
  },
  {
   "cell_type": "code",
   "execution_count": 2,
   "metadata": {},
   "outputs": [
    {
     "name": "stdout",
     "output_type": "stream",
     "text": [
      "6\n"
     ]
    }
   ],
   "source": [
    "n = 1260\n",
    "count = 0\n",
    "\n",
    "# 큰 단위의 화폐부터 차례로 확인한다.\n",
    "array = [500, 100, 50, 10]\n",
    "for coin in array:\n",
    "    count += n // coin    # 해당 화폐로 거슬러 줄 수 있는 동전의 개수 세기\n",
    "    n %= coin\n",
    "    \n",
    "print(count)"
   ]
  },
  {
   "cell_type": "markdown",
   "metadata": {},
   "source": [
    "## 1이 될 때까지\n",
    "- 어떠한 수 N이 1이 될 때까지 아래의 두 과정을 반복적으로 선택하여 수행. 단, 두 번째 연산은 N이 K로 나누어 떨어질 때만 선택 가능\n",
    "1. N에서 1을 뺀다.\n",
    "2. N을 K로 나눈다."
   ]
  },
  {
   "cell_type": "code",
   "execution_count": 3,
   "metadata": {},
   "outputs": [
    {
     "name": "stdout",
     "output_type": "stream",
     "text": [
      "25 2\n",
      "6\n"
     ]
    }
   ],
   "source": [
    "# 내 정답\n",
    "n, k = map(int, input().split())\n",
    "count = 0\n",
    "\n",
    "while(n!=1):\n",
    "    if n%k==0:\n",
    "        n /= k\n",
    "        count += 1\n",
    "    else:\n",
    "        n -= 1\n",
    "        count += 1\n",
    "print(count)"
   ]
  },
  {
   "cell_type": "code",
   "execution_count": 4,
   "metadata": {},
   "outputs": [
    {
     "name": "stdout",
     "output_type": "stream",
     "text": [
      "25 2\n",
      "6.0\n"
     ]
    }
   ],
   "source": [
    "# 시간복잡도를 고려한 모범 정답\n",
    "n, k = map(int, input().split())\n",
    "count = 0\n",
    "\n",
    "while True:\n",
    "    target = (n//k)*k\n",
    "    count += (n-target)\n",
    "    n = target\n",
    "    \n",
    "    if n<k: break\n",
    "     \n",
    "    count += 1\n",
    "    n /= k\n",
    "    \n",
    "count += (n-1)\n",
    "print(count)"
   ]
  },
  {
   "cell_type": "markdown",
   "metadata": {},
   "source": [
    "## 곱하기 혹은 더하기\n",
    "- 각 자리가 숫자로만 이루어진 문자열 S가 주어졌을 때, 왼쪽부터 오른쪽으로 하나씩 모든 숫자를 확인하며 숫자 사이에 'x' 혹은 '+' 연산자를 넣어 결과적으로 만들어질 수 있는 가장 큰 수를 구하는 프로그램을 작성해라. (모든 연산의 우선순위는 왼쪽에서부터 순서대로 이루어짐)\n",
    "- 예를 들어 02948라는 문자열로 만들 수 있는 가장 큰 수는 ((((0+2)x9)x8)x4) = 576"
   ]
  },
  {
   "cell_type": "code",
   "execution_count": 5,
   "metadata": {},
   "outputs": [
    {
     "name": "stdout",
     "output_type": "stream",
     "text": [
      "02948\n",
      "576\n"
     ]
    }
   ],
   "source": [
    "s = input()\n",
    "num = int(s[0])\n",
    "\n",
    "for i in range(1, len(s)):\n",
    "    a = int(s[i])\n",
    "    if num <= 1 or a<=1:\n",
    "        num += a\n",
    "    else:\n",
    "        num *= a\n",
    "        \n",
    "print(num)"
   ]
  },
  {
   "cell_type": "markdown",
   "metadata": {},
   "source": [
    "- 두 수의 연산을 할 때 두 수 중 하나라도 0 혹은 1인 경우 곱하기보다 더하기를 수행해야 한다."
   ]
  },
  {
   "cell_type": "markdown",
   "metadata": {},
   "source": [
    "## 모험가 길드\n",
    "- 한 마을에 모험가 N명 산다. 모험가 길드에서 N명의 모험가를 대상으로 '공포도'를 측정했다. '공포도'가 높은 모험가는 쉽게 공포를 느껴 위험 상황에서 제대로 대처할 능력이 떨어진다.\n",
    "- 모험가 길드장인 동빈이는 모험가 그룹을 안전하게 구성하고자 공포도가 X인 모험가는 반드시 X명 이상으로 구성한 모험가 그룹에 참여해야 여행을 떠날 수 있도록 규정\n",
    "- N명의 모험가에 대한 정보가 주어졌을 때, 여행을 떠날 수 있는 그룹 수의 최댓값을 구하는 프로그램을 작성해라."
   ]
  },
  {
   "cell_type": "markdown",
   "metadata": {},
   "source": [
    "- 예) N=5\n",
    "- 각 모험가의 공포도가 (2, 3, 1, 2, 2)\n",
    "- 이 경우 그룹1에 공포도가 1, 2, 3인 모험가를 한 명씩 넣고, 그룹 2에 공포도가 2인 남은 두 명을 넣게 되면 총 2개의 그룹을 만들 수 있다.\n",
    "- 또한 몇 명의 모험가는 마을에 그대로 남아 있어도 되기 때문에, 모든 모험가를 특정 그룹에 넣을 필요는 없다."
   ]
  },
  {
   "cell_type": "code",
   "execution_count": 8,
   "metadata": {},
   "outputs": [
    {
     "name": "stdout",
     "output_type": "stream",
     "text": [
      "5\n",
      "2 3 1 2 2\n",
      "2\n"
     ]
    }
   ],
   "source": [
    "n = int(input())\n",
    "g = list(map(int, input().split()))\n",
    "g.sort()    # 오름차순 정렬\n",
    "\n",
    "group = 0  # 그룹의 수\n",
    "count = 0  # 그룹에 포함된 모험가 수\n",
    "\n",
    "for i in g:  # 공포도가 낮은 것부터 하나씩 확인하며\n",
    "    count += 1  # 현재 그룹에 해당 모험가를 포함시킨다\n",
    "    if count >= i:  # 현재 그룹에 포함된 모험가의 수가 현재의 공포도 이상이라면, 그룹 결성\n",
    "        group += 1  # 총 그룹의 수 증가시키기\n",
    "        count = 0  # 현재 그룹에 포함된 모험가의 수 초기화\n",
    "        \n",
    "print(count)  # 총 그룹의 수 출력"
   ]
  },
  {
   "cell_type": "markdown",
   "metadata": {},
   "source": [
    "## 큰 수의 법칙\n",
    "- 첫째 줄에 N, M, K 입력\n",
    "- 둘째 줄에 N개의 자연수 (배열) 입력\n",
    "- 예시)\n",
    "    - 2, 4, 5, 4, 6으로 이루어진 배열이 있을 때 M이 8이고, K가 3이라고 가정하자.\n",
    "    - 이 경우 특정한 인덱스의 수가 연속해서 세 번까지만 더해질 수 있으므로 큰 수의 법칙에 따른 결과는 6+6+6+5+6+6+6+5인 46이 된다."
   ]
  },
  {
   "cell_type": "code",
   "execution_count": 9,
   "metadata": {},
   "outputs": [
    {
     "name": "stdout",
     "output_type": "stream",
     "text": [
      "5 8 3\n",
      "2 4 5 4 6\n",
      "46\n"
     ]
    }
   ],
   "source": [
    "# 내 코드\n",
    "n, m, k = map(int, input().split())\n",
    "data = list(map(int, input().split()))\n",
    "data.sort(reverse=True)\n",
    "cnt=0\n",
    "result=0\n",
    "\n",
    "for i in range(m):\n",
    "    if cnt==k:\n",
    "        result += data[1]\n",
    "        cnt=0\n",
    "    else:\n",
    "        result += data[0]\n",
    "        cnt+=1\n",
    "\n",
    "print(result)"
   ]
  },
  {
   "cell_type": "markdown",
   "metadata": {},
   "source": [
    "- 정답 코드는 반복문을 사용하지 않고 해결하였다.."
   ]
  },
  {
   "cell_type": "code",
   "execution_count": 10,
   "metadata": {},
   "outputs": [
    {
     "name": "stdout",
     "output_type": "stream",
     "text": [
      "5 8 3\n",
      "2 4 5 4 6\n",
      "46\n"
     ]
    }
   ],
   "source": [
    "## 보통의 코드\n",
    "# n, m, k = map(int, input().split())\n",
    "# data = list(map(int, input().split()))\n",
    "# data.sort()\n",
    "\n",
    "# first = data[n-1]  # 가장 큰 수\n",
    "# second = data[n-2]  # 두 번째로 큰 수\n",
    "\n",
    "# result = 0\n",
    "\n",
    "# while True:\n",
    "#     for i in range(k):  # 가장 큰 수를 k번 더하기\n",
    "#         if m==0: break  # m이 0이라면 반복문 탈출\n",
    "#         result += first\n",
    "#         m -= 1    # 더할 때마다 1씩 빼기\n",
    "#     if m==0: break  # m이 0이라면 반복문 탈출\n",
    "#     result += second  # 두 번째로 큰 수를 한 번 더하기\n",
    "#     m -= 1  # 더할 때마다 1씩 빼기\n",
    "    \n",
    "# print(result)\n",
    "\n",
    "\n",
    "# 정답 코드\n",
    "n, m, k = map(int, input().split())\n",
    "data = list(map(int, input().split()))\n",
    "data.sort()\n",
    "\n",
    "first = data[n-1]  # 가장 큰 수\n",
    "second = data[n-2]  # 두 번째로 큰 수\n",
    "\n",
    "# 가장 큰 수가 더해지는 횟수 계산\n",
    "count = int(m/(k+1)) * k \n",
    "count += m % (k+1)\n",
    "\n",
    "result = 0\n",
    "result += (count)*first\n",
    "result += (m-count)*second\n",
    "\n",
    "print(result)"
   ]
  },
  {
   "cell_type": "markdown",
   "metadata": {},
   "source": [
    "## 숫자 카드 게임\n",
    "- 숫자 카드들이 N x M 형태로 놓여 있다. 이때 N은 행의 개수를 의미하며, M은 열의 개수를 의미한다.\n",
    "- 각 행에서 가장 낮은 숫자를 뽑는다.\n",
    "- 뽑힌 숫자들 중 가장 높은 숫자가 정답이다."
   ]
  },
  {
   "cell_type": "code",
   "execution_count": 12,
   "metadata": {},
   "outputs": [
    {
     "name": "stdout",
     "output_type": "stream",
     "text": [
      "3 3\n",
      "3 1 2\n",
      "4 1 4\n",
      "2 2 2\n",
      "2\n"
     ]
    }
   ],
   "source": [
    "# 내 코드\n",
    "\n",
    "n, m = map(int, input().split())\n",
    "min_group = []\n",
    "for i in range(n):\n",
    "    card = list(map(int, input().split()))\n",
    "    minimum = 10001\n",
    "    for j in range(m):\n",
    "        if card[j]<minimum:\n",
    "            minimum = card[j]\n",
    "    min_group.append(minimum)\n",
    "    \n",
    "result = max(min_group)\n",
    "print(result) "
   ]
  },
  {
   "cell_type": "code",
   "execution_count": 13,
   "metadata": {},
   "outputs": [
    {
     "name": "stdout",
     "output_type": "stream",
     "text": [
      "3 3\n",
      "3 1 2\n",
      "4 1 4\n",
      "2 2 2\n",
      "2\n"
     ]
    }
   ],
   "source": [
    "# 정답 코드\n",
    "n, m = map(int, input().split())\n",
    "\n",
    "result = 0\n",
    "# 한 줄씩 입력받아서 확인\n",
    "for i in range(n):\n",
    "    data = list(map(int, input().split()))\n",
    "    # 현재 줄에서 '가장 작은 수' 찾기\n",
    "    min_value = min(data)\n",
    "    # '가장 작은 수'들 중에서 가장 큰 수 찾기\n",
    "    result = max(result, min_value)\n",
    "    \n",
    "print(result)\n",
    "\n",
    "\n",
    "\n",
    "# # 2중 반복문 구조를 이용하는 답안 예시\n",
    "# n, m = map(int, input().split())\n",
    "# result = 0\n",
    "# for i in range(n):\n",
    "#     data = list(map(int, input().split()))\n",
    "#     # 현재 줄에서 '가장 작은 수' 찾기\n",
    "#     min_value = 10001\n",
    "#     for a in data:\n",
    "#         min_value = min(min_value, a)\n",
    "#     # '가장 작은 수'들 중에서 가장 큰 수 찾기\n",
    "#     result = max(result, min_value)\n",
    "# print(result)"
   ]
  },
  {
   "cell_type": "markdown",
   "metadata": {},
   "source": [
    "- 나는 2중 반복문 구조를 이용하여 문제를 해결하였다. 정답 코드는 보다 효율적인 코드였다."
   ]
  }
 ],
 "metadata": {
  "kernelspec": {
   "display_name": "Python 3",
   "language": "python",
   "name": "python3"
  },
  "language_info": {
   "codemirror_mode": {
    "name": "ipython",
    "version": 3
   },
   "file_extension": ".py",
   "mimetype": "text/x-python",
   "name": "python",
   "nbconvert_exporter": "python",
   "pygments_lexer": "ipython3",
   "version": "3.8.5"
  },
  "toc": {
   "base_numbering": 1,
   "nav_menu": {},
   "number_sections": true,
   "sideBar": true,
   "skip_h1_title": false,
   "title_cell": "Table of Contents",
   "title_sidebar": "Contents",
   "toc_cell": false,
   "toc_position": {},
   "toc_section_display": true,
   "toc_window_display": false
  }
 },
 "nbformat": 4,
 "nbformat_minor": 4
}
